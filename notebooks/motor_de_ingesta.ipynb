{
 "cells": [
  {
   "cell_type": "markdown",
   "metadata": {
    "application/vnd.databricks.v1+cell": {
     "cellMetadata": {},
     "inputWidgets": {},
     "nuid": "859df43b-74f8-4ee0-aca7-55f82309704f",
     "showTitle": false,
     "tableResultSettingsMap": {},
     "title": ""
    }
   },
   "source": [
    "### Implementacion del motor de ingesta\n",
    "\n",
    "Se ha compartido un archivo wheel el cual debe ser instalado en el computo del cluster, aquí procedemos a instalarlo:"
   ]
  },
  {
   "cell_type": "markdown",
   "metadata": {
    "application/vnd.databricks.v1+cell": {
     "cellMetadata": {},
     "inputWidgets": {},
     "nuid": "5bfd590d-5bcd-4f25-99a5-62c27494e50d",
     "showTitle": false,
     "tableResultSettingsMap": {},
     "title": ""
    }
   },
   "source": [
    "Recordar que para esta parte se deben tener creados dos nuevos blob containers:\n",
    "\n",
    "1. landingcaso\n",
    "2. datalakecaso\n",
    "\n",
    "Ya que en estos se realizará la ejecución de todo lo necesario."
   ]
  },
  {
   "cell_type": "markdown",
   "metadata": {
    "application/vnd.databricks.v1+cell": {
     "cellMetadata": {},
     "inputWidgets": {},
     "nuid": "57b555e0-25df-4e95-9ab5-76cb0d7cd0d4",
     "showTitle": false,
     "tableResultSettingsMap": {},
     "title": ""
    }
   },
   "source": [
    "#### Import para el proyecto"
   ]
  },
  {
   "cell_type": "code",
   "execution_count": 0,
   "metadata": {
    "application/vnd.databricks.v1+cell": {
     "cellMetadata": {
      "byteLimit": 2048000,
      "rowLimit": 10000
     },
     "inputWidgets": {},
     "nuid": "3f3cf28c-308f-46ac-9bee-71f46ece26c6",
     "showTitle": false,
     "tableResultSettingsMap": {},
     "title": ""
    }
   },
   "outputs": [],
   "source": [
    "import sys\n",
    "import os\n",
    "import json\n",
    "from confluent_kafka.schema_registry import SchemaRegistryClient\n",
    "\n",
    "from MotorIngesta.batch_ingestion import batch_ingestion\n",
    "from MotorIngesta.streaming_ingestion import streaming_ingestion"
   ]
  },
  {
   "cell_type": "markdown",
   "metadata": {
    "application/vnd.databricks.v1+cell": {
     "cellMetadata": {},
     "inputWidgets": {},
     "nuid": "43319dd7-a14d-4295-b11e-e6ae69e2bffe",
     "showTitle": false,
     "tableResultSettingsMap": {},
     "title": ""
    }
   },
   "source": [
    "#### Archivo de configuración, lectura:"
   ]
  },
  {
   "cell_type": "code",
   "execution_count": 0,
   "metadata": {
    "application/vnd.databricks.v1+cell": {
     "cellMetadata": {
      "byteLimit": 2048000,
      "rowLimit": 10000
     },
     "inputWidgets": {},
     "nuid": "d18d5fcb-421b-4ccf-8ea1-85a264bbc89b",
     "showTitle": false,
     "tableResultSettingsMap": {},
     "title": ""
    }
   },
   "outputs": [],
   "source": [
    "def read_config(file_path):\n",
    "    with open(file_path, 'r') as file:\n",
    "        config = json.load(file)\n",
    "    return config"
   ]
  },
  {
   "cell_type": "markdown",
   "metadata": {
    "application/vnd.databricks.v1+cell": {
     "cellMetadata": {},
     "inputWidgets": {},
     "nuid": "a2b94f95-8df7-4630-8c07-17e52992ae5a",
     "showTitle": false,
     "tableResultSettingsMap": {},
     "title": ""
    }
   },
   "source": [
    "## Ingesta de datos batch"
   ]
  },
  {
   "cell_type": "code",
   "execution_count": 0,
   "metadata": {
    "ExecuteTime": {
     "end_time": "2025-05-21T03:23:35.909093Z",
     "start_time": "2025-05-21T03:23:35.671942Z"
    },
    "application/vnd.databricks.v1+cell": {
     "cellMetadata": {
      "byteLimit": 2048000,
      "rowLimit": 10000
     },
     "inputWidgets": {},
     "nuid": "1a50bc75-8a57-4e5b-9fc2-41a1340dac7c",
     "showTitle": false,
     "tableResultSettingsMap": {},
     "title": ""
    },
    "collapsed": true
   },
   "outputs": [],
   "source": [
    "format = \"json\"\n",
    "\n",
    "account = spark.conf.get(\"adls.account.name\")\n",
    "\n",
    "datasource = 'batch_operations'\n",
    "dataset = \"sales_orders\"\n",
    "\n",
    "landing_container = f\"abfss://landingcaso@{account}.dfs.core.windows.net\"\n",
    "lakehouse_container = f\"abfss://datalakecaso@{account}.dfs.core.windows.net\"\n",
    "\n",
    "landing_path = landing_container\n",
    "raw_path = f\"{lakehouse_container}/raw\"\n",
    "bronze_path = f\"{lakehouse_container}/bronze\"\n",
    "\n",
    "dataset_landing_path = f\"{landing_path}/{datasource}/{dataset}\"\n",
    "dataset_raw_path =  f\"{raw_path}/{datasource}/{dataset}\"\n",
    "dataset_bronze_path = f\"{bronze_path}/{datasource}/{dataset}\"\n",
    "\n",
    "print(landing_path)\n",
    "print(raw_path)\n",
    "print(bronze_path)\n",
    "\n",
    "print(dataset_landing_path)\n",
    "print(dataset_raw_path)\n",
    "print(dataset_bronze_path)"
   ]
  },
  {
   "cell_type": "code",
   "execution_count": 0,
   "metadata": {
    "application/vnd.databricks.v1+cell": {
     "cellMetadata": {
      "byteLimit": 2048000,
      "rowLimit": 10000
     },
     "inputWidgets": {},
     "nuid": "f6f3351d-78ba-4b13-8f82-ec2315c703a3",
     "showTitle": false,
     "tableResultSettingsMap": {},
     "title": ""
    }
   },
   "outputs": [],
   "source": [
    "batch_ingestion(datasource, dataset, landing_path, raw_path, bronze_path, format, spark=spark, dbutils=dbutils)"
   ]
  },
  {
   "cell_type": "markdown",
   "metadata": {
    "application/vnd.databricks.v1+cell": {
     "cellMetadata": {},
     "inputWidgets": {},
     "nuid": "222c4b73-78fb-42e1-a37d-918a58edf625",
     "showTitle": false,
     "tableResultSettingsMap": {},
     "title": ""
    }
   },
   "source": [
    "## Ingesta de datos desde Kafka"
   ]
  },
  {
   "cell_type": "code",
   "execution_count": 0,
   "metadata": {
    "application/vnd.databricks.v1+cell": {
     "cellMetadata": {
      "byteLimit": 2048000,
      "rowLimit": 10000
     },
     "inputWidgets": {},
     "nuid": "b0bbe9f8-2e9c-459e-9fb0-14f0263826f3",
     "showTitle": false,
     "tableResultSettingsMap": {},
     "title": ""
    }
   },
   "outputs": [],
   "source": [
    "topic = \"mobile_client\"\n",
    "datasource = \"mobile\"\n",
    "dataset = topic\n",
    "\n",
    "dataset_landing_path = f\"{landing_path}/{datasource}/{dataset}\"\n",
    "dataset_raw_path =  f\"{raw_path}/{datasource}/{dataset}\"\n",
    "dataset_bronze_path = f\"{bronze_path}/{datasource}/{dataset}\"\n",
    "dataset_bronze_checkpoint_path = f\"{bronze_path}/{datasource}/{dataset}_checkpoint\"\n",
    "table_name = f\"hive_metastore.bronze.{datasource}_{dataset}\"\n",
    "\n",
    "config_dict = read_config('/dbfs/FileStore/config.json')\n",
    "# print(config_dict)\n",
    "\n",
    "schema_registry_url = config_dict[\"schema_registry_url\"]\n",
    "schema_registry_username = config_dict[\"schema_registry_username\"]\n",
    "schema_registry_password = config_dict[\"schema_registry_password\"]\n",
    "\n",
    "schema_registry_conf = {'url': schema_registry_url,\n",
    "                        'basic.auth.user.info' : f'{schema_registry_username}:{schema_registry_password}'}\n",
    "schema_registry_client = SchemaRegistryClient(schema_registry_conf)\n",
    "\n",
    "print(dataset_landing_path)\n",
    "print(dataset_raw_path)\n",
    "print(dataset_bronze_path)\n",
    "print(table_name)"
   ]
  },
  {
   "cell_type": "code",
   "execution_count": 0,
   "metadata": {
    "application/vnd.databricks.v1+cell": {
     "cellMetadata": {
      "byteLimit": 2048000,
      "rowLimit": 10000
     },
     "inputWidgets": {},
     "nuid": "336b0ec5-17fc-43fa-8548-fa478fc0ab91",
     "showTitle": false,
     "tableResultSettingsMap": {},
     "title": ""
    }
   },
   "outputs": [],
   "source": [
    "streaming_ingestion(topic, dataset_bronze_path, dataset_bronze_checkpoint_path, table_name, spark, schema_registry_client)"
   ]
  }
 ],
 "metadata": {
  "application/vnd.databricks.v1+notebook": {
   "computePreferences": null,
   "dashboards": [],
   "environmentMetadata": null,
   "inputWidgetPreferences": null,
   "language": "python",
   "notebookMetadata": {
    "pythonIndentUnit": 4
   },
   "notebookName": "motor_de_ingesta",
   "widgets": {}
  },
  "kernelspec": {
   "display_name": "venv",
   "language": "python",
   "name": "python3"
  },
  "language_info": {
   "name": "python"
  }
 },
 "nbformat": 4,
 "nbformat_minor": 0
}