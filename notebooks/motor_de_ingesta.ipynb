{
 "cells": [
  {
   "metadata": {},
   "cell_type": "markdown",
   "source": [
    "### Implementacion del motor de ingesta\n",
    "\n",
    "Se ha compartido un archivo wheel el cual debe ser instalado en el computo del cluster, aquí procedemos a instalarlo:"
   ],
   "id": "ff8e4950ded27f59"
  },
  {
   "metadata": {},
   "cell_type": "code",
   "outputs": [],
   "execution_count": null,
   "source": "# !pip install --force-reinstall ruta/motor_ingesta-0.1.0-py3-none-any.whl",
   "id": "b62f4117aa8cd31f"
  },
  {
   "metadata": {},
   "cell_type": "markdown",
   "source": [
    "Recordar que para esta parte se deben tener creados dos nuevos blob containers:\n",
    "\n",
    "1. landingcaso\n",
    "2. datalakecaso\n",
    "\n",
    "Ya que en estos se realizará la ejecución de todo lo necesario."
   ],
   "id": "cec75c7fc69ce3ac"
  },
  {
   "metadata": {},
   "cell_type": "code",
   "outputs": [],
   "execution_count": null,
   "source": [
    "# Creacion de sesion de spark - Solo desarrollo\n",
    "\n",
    "from databricks.connect import DatabricksSession\n",
    "spark = DatabricksSession.builder.getOrCreate()"
   ],
   "id": "3646a49cbd56248b"
  },
  {
   "metadata": {
    "collapsed": true,
    "ExecuteTime": {
     "end_time": "2025-05-21T03:23:35.909093Z",
     "start_time": "2025-05-21T03:23:35.671942Z"
    }
   },
   "cell_type": "code",
   "source": [
    "account = spark.conf.get(\"adls.account.name\")\n",
    "\n",
    "landing_container = f\"abfss://landingcaso@{account}.dfs.core.windows.net\"\n",
    "lakehouse_container = f\"abfss://lakehousecaso@{account}.dfs.core.windows.net\"\n",
    "\n",
    "landing_path = landing_container\n",
    "raw_path = f\"{lakehouse_container}/raw\"\n",
    "bronze_path = f\"{lakehouse_container}/bronze\"\n",
    "\n",
    "print(landing_path)\n",
    "print(raw_path)\n",
    "print(bronze_path)"
   ],
   "id": "initial_id",
   "outputs": [
    {
     "name": "stdout",
     "output_type": "stream",
     "text": [
      "abfss://landingcaso@datalakestoragecasoucm01.dfs.core.windows.net\n",
      "abfss://lakehousecaso@datalakestoragecasoucm01.dfs.core.windows.net/raw\n",
      "abfss://lakehousecaso@datalakestoragecasoucm01.dfs.core.windows.net/bronze\n"
     ]
    }
   ],
   "execution_count": 4
  }
 ],
 "metadata": {
  "kernelspec": {
   "display_name": "Python 3",
   "language": "python",
   "name": "python3"
  },
  "language_info": {
   "codemirror_mode": {
    "name": "ipython",
    "version": 2
   },
   "file_extension": ".py",
   "mimetype": "text/x-python",
   "name": "python",
   "nbconvert_exporter": "python",
   "pygments_lexer": "ipython2",
   "version": "2.7.6"
  }
 },
 "nbformat": 4,
 "nbformat_minor": 5
}
