{
 "cells": [
  {
   "cell_type": "markdown",
   "id": "ff8e4950ded27f59",
   "metadata": {},
   "source": [
    "### Implementacion del motor de ingesta\n",
    "\n",
    "Se ha compartido un archivo wheel el cual debe ser instalado en el computo del cluster, aquí procedemos a instalarlo:"
   ]
  },
  {
   "cell_type": "code",
   "execution_count": null,
   "id": "b62f4117aa8cd31f",
   "metadata": {},
   "outputs": [],
   "source": [
    "# !pip install --force-reinstall ruta/motor_ingesta-0.1.0-py3-none-any.whl"
   ]
  },
  {
   "cell_type": "markdown",
   "id": "cec75c7fc69ce3ac",
   "metadata": {},
   "source": [
    "Recordar que para esta parte se deben tener creados dos nuevos blob containers:\n",
    "\n",
    "1. landingcaso\n",
    "2. datalakecaso\n",
    "\n",
    "Ya que en estos se realizará la ejecución de todo lo necesario."
   ]
  },
  {
   "cell_type": "code",
   "execution_count": 7,
   "id": "3646a49cbd56248b",
   "metadata": {},
   "outputs": [],
   "source": [
    "# Creacion de sesion de spark - Solo desarrollo\n",
    "\n",
    "from databricks.connect import DatabricksSession\n",
    "spark = DatabricksSession.builder.getOrCreate()"
   ]
  },
  {
   "cell_type": "code",
   "execution_count": null,
   "id": "09055141",
   "metadata": {},
   "outputs": [],
   "source": [
    "datasource = \"retail-org\"\n",
    "dataset = \"sales_orders\"\n",
    "\n",
    "df = spark.read.json(f\"/databricks-datasets/{datasource}/{dataset}/\")\n",
    "\n",
    "df.printSchema()"
   ]
  },
  {
   "cell_type": "code",
   "execution_count": 11,
   "id": "ac49a70b",
   "metadata": {},
   "outputs": [],
   "source": [
    "import sys\n",
    "import os\n",
    "\n",
    "# Agrega el directorio al sys.path\n",
    "sys.path.append(os.path.abspath(\"C:/MASTER/Diseno de ingestas y lagos de datos/Tarea/Motor de ingesta\"))\n",
    "\n",
    "# Ahora puedes importar el módulo\n",
    "from MotorIngesta.batch_ingestion import batch_ingestion"
   ]
  },
  {
   "cell_type": "code",
   "execution_count": 12,
   "id": "initial_id",
   "metadata": {
    "ExecuteTime": {
     "end_time": "2025-05-21T03:23:35.909093Z",
     "start_time": "2025-05-21T03:23:35.671942Z"
    },
    "collapsed": true
   },
   "outputs": [
    {
     "name": "stdout",
     "output_type": "stream",
     "text": [
      "abfss://landingcaso@datalakestoragecasoucm01.dfs.core.windows.net\n",
      "abfss://lakehousecaso@datalakestoragecasoucm01.dfs.core.windows.net/raw\n",
      "abfss://lakehousecaso@datalakestoragecasoucm01.dfs.core.windows.net/bronze\n",
      "abfss://landingcaso@datalakestoragecasoucm01.dfs.core.windows.net/retail/sales_orders\n",
      "abfss://lakehousecaso@datalakestoragecasoucm01.dfs.core.windows.net/raw/retail/sales_orders\n",
      "abfss://lakehousecaso@datalakestoragecasoucm01.dfs.core.windows.net/bronze/retail/sales_orders\n"
     ]
    }
   ],
   "source": [
    "format = \"json\"\n",
    "\n",
    "account = spark.conf.get(\"adls.account.name\")\n",
    "\n",
    "datasource = 'retail'\n",
    "dataset = \"sales_orders\"\n",
    "\n",
    "landing_container = f\"abfss://landingcaso@{account}.dfs.core.windows.net\"\n",
    "lakehouse_container = f\"abfss://lakehousecaso@{account}.dfs.core.windows.net\"\n",
    "\n",
    "landing_path = landing_container\n",
    "raw_path = f\"{lakehouse_container}/raw\"\n",
    "bronze_path = f\"{lakehouse_container}/bronze\"\n",
    "\n",
    "dataset_landing_path = f\"{landing_path}/{datasource}/{dataset}\"\n",
    "dataset_raw_path =  f\"{raw_path}/{datasource}/{dataset}\"\n",
    "dataset_bronze_path = f\"{bronze_path}/{datasource}/{dataset}\"\n",
    "\n",
    "print(landing_path)\n",
    "print(raw_path)\n",
    "print(bronze_path)\n",
    "\n",
    "print(dataset_landing_path)\n",
    "print(dataset_raw_path)\n",
    "print(dataset_bronze_path)"
   ]
  },
  {
   "cell_type": "code",
   "execution_count": null,
   "id": "b18b58e4",
   "metadata": {},
   "outputs": [
    {
     "ename": "TypeError",
     "evalue": "LandingStreamReader.__init__() missing 1 required positional argument: 'spark'",
     "output_type": "error",
     "traceback": [
      "\u001b[31m---------------------------------------------------------------------------\u001b[39m",
      "\u001b[31mTypeError\u001b[39m                                 Traceback (most recent call last)",
      "\u001b[36mCell\u001b[39m\u001b[36m \u001b[39m\u001b[32mIn[14]\u001b[39m\u001b[32m, line 1\u001b[39m\n\u001b[32m----> \u001b[39m\u001b[32m1\u001b[39m \u001b[43mbatch_ingestion\u001b[49m\u001b[43m(\u001b[49m\u001b[43mdatasource\u001b[49m\u001b[43m,\u001b[49m\u001b[43m \u001b[49m\u001b[43mdataset\u001b[49m\u001b[43m,\u001b[49m\u001b[43m \u001b[49m\u001b[43mlanding_path\u001b[49m\u001b[43m,\u001b[49m\u001b[43m \u001b[49m\u001b[43mraw_path\u001b[49m\u001b[43m,\u001b[49m\u001b[43m \u001b[49m\u001b[43mbronze_path\u001b[49m\u001b[43m,\u001b[49m\u001b[43m \u001b[49m\u001b[38;5;28;43mformat\u001b[39;49m\u001b[43m)\u001b[49m\n",
      "\u001b[36mFile \u001b[39m\u001b[32mC:\\MASTER\\Diseno de ingestas y lagos de datos\\Tarea\\Motor de ingesta\\MotorIngesta\\batch_ingestion.py:178\u001b[39m, in \u001b[36mbatch_ingestion\u001b[39m\u001b[34m(datasource, dataset, landing_path, raw_path, bronze_path, format)\u001b[39m\n\u001b[32m    169\u001b[39m \u001b[38;5;28;01mdef\u001b[39;00m\u001b[38;5;250m \u001b[39m\u001b[34mbatch_ingestion\u001b[39m(datasource, dataset, landing_path, raw_path, bronze_path, \u001b[38;5;28mformat\u001b[39m):\n\u001b[32m    171\u001b[39m     reader = (\u001b[43mLandingStreamReader\u001b[49m\u001b[43m.\u001b[49m\u001b[43mBuilder\u001b[49m\u001b[43m(\u001b[49m\u001b[43m)\u001b[49m\u001b[43m          \u001b[49m\n\u001b[32m    172\u001b[39m \u001b[43m    \u001b[49m\u001b[43m.\u001b[49m\u001b[43mset_datasource\u001b[49m\u001b[43m(\u001b[49m\u001b[43mdatasource\u001b[49m\u001b[43m)\u001b[49m\n\u001b[32m    173\u001b[39m \u001b[43m    \u001b[49m\u001b[43m.\u001b[49m\u001b[43mset_dataset\u001b[49m\u001b[43m(\u001b[49m\u001b[43mdataset\u001b[49m\u001b[43m)\u001b[49m\n\u001b[32m    174\u001b[39m \u001b[43m    \u001b[49m\u001b[43m.\u001b[49m\u001b[43mset_landing_path\u001b[49m\u001b[43m(\u001b[49m\u001b[43mlanding_path\u001b[49m\u001b[43m)\u001b[49m\n\u001b[32m    175\u001b[39m \u001b[43m    \u001b[49m\u001b[43m.\u001b[49m\u001b[43mset_raw_path\u001b[49m\u001b[43m(\u001b[49m\u001b[43mraw_path\u001b[49m\u001b[43m)\u001b[49m\n\u001b[32m    176\u001b[39m \u001b[43m    \u001b[49m\u001b[43m.\u001b[49m\u001b[43mset_bronze_path\u001b[49m\u001b[43m(\u001b[49m\u001b[43mbronze_path\u001b[49m\u001b[43m)\u001b[49m\n\u001b[32m    177\u001b[39m \u001b[43m    \u001b[49m\u001b[43m.\u001b[49m\u001b[43mset_format\u001b[49m\u001b[43m(\u001b[49m\u001b[38;5;28;43mformat\u001b[39;49m\u001b[43m)\u001b[49m\n\u001b[32m--> \u001b[39m\u001b[32m178\u001b[39m \u001b[43m    \u001b[49m\u001b[43m.\u001b[49m\u001b[43mbuild\u001b[49m\u001b[43m(\u001b[49m\u001b[43m)\u001b[49m\n\u001b[32m    179\u001b[39m     )\n\u001b[32m    180\u001b[39m     \u001b[38;5;28mprint\u001b[39m(reader)\n\u001b[32m    181\u001b[39m     writer = (BronzeStreamWriter.Builder()\n\u001b[32m    182\u001b[39m     .set_datasource(datasource)\n\u001b[32m    183\u001b[39m     .set_dataset(dataset)\n\u001b[32m   (...)\u001b[39m\u001b[32m    187\u001b[39m     .build()\n\u001b[32m    188\u001b[39m     )\n",
      "\u001b[36mFile \u001b[39m\u001b[32mC:\\MASTER\\Diseno de ingestas y lagos de datos\\Tarea\\Motor de ingesta\\MotorIngesta\\batch_ingestion.py:87\u001b[39m, in \u001b[36mLandingStreamReader.Builder.build\u001b[39m\u001b[34m(self)\u001b[39m\n\u001b[32m     86\u001b[39m \u001b[38;5;28;01mdef\u001b[39;00m\u001b[38;5;250m \u001b[39m\u001b[34mbuild\u001b[39m(\u001b[38;5;28mself\u001b[39m):\n\u001b[32m---> \u001b[39m\u001b[32m87\u001b[39m     \u001b[38;5;28;01mreturn\u001b[39;00m \u001b[43mLandingStreamReader\u001b[49m\u001b[43m(\u001b[49m\u001b[38;5;28;43mself\u001b[39;49m\u001b[43m)\u001b[49m\n",
      "\u001b[31mTypeError\u001b[39m: LandingStreamReader.__init__() missing 1 required positional argument: 'spark'"
     ]
    }
   ],
   "source": [
    "batch_ingestion(datasource, dataset, landing_path, raw_path, bronze_path, format, spark)"
   ]
  }
 ],
 "metadata": {
  "kernelspec": {
   "display_name": "venv",
   "language": "python",
   "name": "python3"
  },
  "language_info": {
   "codemirror_mode": {
    "name": "ipython",
    "version": 3
   },
   "file_extension": ".py",
   "mimetype": "text/x-python",
   "name": "python",
   "nbconvert_exporter": "python",
   "pygments_lexer": "ipython3",
   "version": "3.11.0"
  }
 },
 "nbformat": 4,
 "nbformat_minor": 5
}
