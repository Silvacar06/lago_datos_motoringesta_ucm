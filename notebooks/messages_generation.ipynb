{
 "cells": [
  {
   "cell_type": "code",
   "execution_count": 0,
   "metadata": {
    "application/vnd.databricks.v1+cell": {
     "cellMetadata": {
      "byteLimit": 2048000,
      "rowLimit": 10000
     },
     "inputWidgets": {},
     "nuid": "8b92679d-8704-4477-86b4-cc56d3c92399",
     "showTitle": false,
     "tableResultSettingsMap": {},
     "title": ""
    }
   },
   "outputs": [],
   "source": [
    "import random\n",
    "import time\n",
    "import json\n",
    "from faker import Faker\n",
    "from confluent_kafka import Producer\n",
    "from faker.providers import BaseProvider\n",
    "from confluent_kafka.admin import AdminClient, NewTopic\n",
    "from confluent_kafka.serialization import StringSerializer, SerializationContext, MessageField"
   ]
  },
  {
   "cell_type": "code",
   "execution_count": 0,
   "metadata": {
    "application/vnd.databricks.v1+cell": {
     "cellMetadata": {
      "byteLimit": 2048000,
      "rowLimit": 10000
     },
     "inputWidgets": {},
     "nuid": "e1359a2d-43f0-455e-b470-b1a6021f83db",
     "showTitle": false,
     "tableResultSettingsMap": {},
     "title": ""
    }
   },
   "outputs": [],
   "source": [
    "def read_config():\n",
    "  config = {}\n",
    "  with open(\"/dbfs/FileStore/client_properties\") as fh:\n",
    "    for line in fh:\n",
    "      line = line.strip()\n",
    "      if len(line) != 0 and line[0] != \"#\":\n",
    "        parameter, value = line.strip().split('=', 1)\n",
    "        config[parameter] = value.strip()\n",
    "  return config\n",
    "\n",
    "conf = read_config()"
   ]
  },
  {
   "cell_type": "code",
   "execution_count": 0,
   "metadata": {
    "application/vnd.databricks.v1+cell": {
     "cellMetadata": {
      "byteLimit": 2048000,
      "rowLimit": 10000
     },
     "inputWidgets": {},
     "nuid": "f641fd43-b146-4cdd-b4ed-91e62ae01792",
     "showTitle": false,
     "tableResultSettingsMap": {},
     "title": ""
    }
   },
   "outputs": [],
   "source": [
    "from confluent_kafka.schema_registry import SchemaRegistryClient\n",
    "\n",
    "topic = 'mobile_client'\n",
    "\n",
    "# cambiar por las vuestras\n",
    "schema_registry_url = \"https://psrc-ko92v.us-east-2.aws.confluent.cloud\"\n",
    "schema_registry_username = 'G3YDZKKPA2MGGLQD'\n",
    "schema_registry_password = 'PbYRQGwmGdntB9bcpFh4CHeBv9B7+MWA2YM/UETXYKLiFCOqoLVR6xq/wNq9/UOo'\n",
    "#schema_registry_username = \"DRPEYI5PVVYELBEL\"\n",
    "#schema_registry_password = \"rgsuii1ahABRHD8GXqFKkNSF4vJqXZcv/nefDdaJmW3ud9euF0vwZPzfvV0zABw1\"\n",
    "\n",
    "schema_registry_conf = {'url': schema_registry_url,\n",
    "                        'basic.auth.user.info' : f'{schema_registry_username}:{schema_registry_password}'}\n",
    "schema_registry_client = SchemaRegistryClient(schema_registry_conf)"
   ]
  },
  {
   "cell_type": "code",
   "execution_count": 0,
   "metadata": {
    "application/vnd.databricks.v1+cell": {
     "cellMetadata": {
      "byteLimit": 2048000,
      "rowLimit": 10000
     },
     "inputWidgets": {},
     "nuid": "4ded387e-fd38-499b-a5ce-ce38a328e98f",
     "showTitle": false,
     "tableResultSettingsMap": {},
     "title": ""
    }
   },
   "outputs": [],
   "source": [
    "import random\n",
    "import time\n",
    "import json\n",
    "from faker import Faker\n",
    "from confluent_kafka import Producer\n",
    "from faker.providers import BaseProvider\n",
    "from confluent_kafka.admin import AdminClient, NewTopic\n",
    "from confluent_kafka.serialization import StringSerializer, SerializationContext, MessageField\n",
    "from confluent_kafka.schema_registry import SchemaRegistryClient\n",
    "from confluent_kafka.schema_registry.avro import AvroSerializer\n",
    "\n",
    "class MobileUserEventProvider(BaseProvider):\n",
    "    def user_id(self):\n",
    "        return random.randint(1000, 9999)\n",
    "\n",
    "    def event_type(self):\n",
    "        event_types = [\"login\", \"logout\", \"purchase\", \"view\", \"click\"]\n",
    "        return random.choice(event_types)\n",
    "\n",
    "    def location(self):\n",
    "        locations = [\"Farm A\", \"Farm B\", \"Farm C\", \"Farm D\"]\n",
    "        return random.choice(locations)\n",
    "\n",
    "    def produce_msg(self, FakerInstance, event_count=1):\n",
    "        events = []\n",
    "        for _ in range(event_count):\n",
    "            event = {\n",
    "                \"userId\": self.user_id(),\n",
    "                \"eventType\": self.event_type(),\n",
    "                \"location\": self.location(),\n",
    "                \"timestamp\": int(time.time() * 1000),\n",
    "            }\n",
    "            events.append(event)\n",
    "        return events\n",
    "\n",
    "# Update Avro schema for mobile user events\n",
    "event_schema_str = \"\"\"\n",
    "{\n",
    "  \"type\": \"record\",\n",
    "  \"name\": \"UserEvent\",\n",
    "  \"fields\": [\n",
    "    {\n",
    "      \"name\": \"userId\",\n",
    "      \"type\": \"int\"\n",
    "    },\n",
    "    {\n",
    "      \"name\": \"eventType\",\n",
    "      \"type\": \"string\"\n",
    "    },\n",
    "    {\n",
    "      \"name\": \"location\",\n",
    "      \"type\": \"string\"\n",
    "    },\n",
    "    {\n",
    "      \"name\": \"timestamp\",\n",
    "      \"type\": \"long\"\n",
    "    }\n",
    "  ]\n",
    "}\n",
    "\"\"\"\n",
    "# key serializer\n",
    "string_serializer = StringSerializer('utf_8')\n",
    "\n",
    "# Update value serializer\n",
    "avro_serializer = AvroSerializer(schema_registry_client, event_schema_str)\n",
    "\n",
    "producer = Producer(conf)\n",
    "\n",
    "fake = Faker()\n",
    "fake.add_provider(MobileUserEventProvider)\n",
    "\n",
    "MAX_EVENTS = 10\n",
    "\n",
    "for i in range(MAX_EVENTS):\n",
    "    events = fake.produce_msg(fake, 1)\n",
    "    for event in events:\n",
    "        producer.produce(topic=topic, \n",
    "                         key=string_serializer(str(event[\"userId\"])), \n",
    "                         value=avro_serializer(event, SerializationContext(topic, MessageField.VALUE)))\n",
    "    producer.flush()\n",
    "    print(f\"Event {i+1} sent\")\n",
    "    # sleeping time\n",
    "    sleep_time = (\n",
    "        random.randint(0, int(1 * 10000)) / 10000\n",
    "    )\n",
    "    print(\"sleeping for...\" + str(sleep_time) + \"s\")\n",
    "    time.sleep(sleep_time)"
   ]
  }
 ],
 "metadata": {
  "application/vnd.databricks.v1+notebook": {
   "computePreferences": null,
   "dashboards": [],
   "environmentMetadata": {
    "base_environment": "",
    "environment_version": "2"
   },
   "inputWidgetPreferences": null,
   "language": "python",
   "notebookMetadata": {
    "pythonIndentUnit": 4
   },
   "notebookName": "messages_generation",
   "widgets": {}
  },
  "language_info": {
   "name": "python"
  }
 },
 "nbformat": 4,
 "nbformat_minor": 0
}
